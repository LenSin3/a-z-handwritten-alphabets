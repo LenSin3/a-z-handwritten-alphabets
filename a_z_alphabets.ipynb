{
 "cells": [
  {
   "cell_type": "code",
   "execution_count": 15,
   "id": "9650ea27",
   "metadata": {},
   "outputs": [],
   "source": [
    "# import dependencies for file processing\n",
    "import os\n",
    "import csv\n",
    "import numpy as np"
   ]
  },
  {
   "cell_type": "code",
   "execution_count": 16,
   "id": "0c6c2521",
   "metadata": {},
   "outputs": [],
   "source": [
    "# filepath\n",
    "a_z_path = 'data/A_Z Handwritten Data.csv'"
   ]
  },
  {
   "cell_type": "code",
   "execution_count": 17,
   "id": "19b89bac",
   "metadata": {},
   "outputs": [],
   "source": [
    "# readfile\n",
    "with open(a_z_path) as training_file:\n",
    "        reader = csv.reader(training_file, delimiter = ',')\n",
    "        header = []\n",
    "        labels = []\n",
    "        images = []\n",
    "        for row in reader:\n",
    "            labels.append(row[0])\n",
    "            pixel = np.array(row[1:785])\n",
    "            # images are of 28 x 28 grayscale\n",
    "            pix_split = np.array_split(pixel, 28)\n",
    "            images.append(pix_split)   "
   ]
  },
  {
   "cell_type": "code",
   "execution_count": 23,
   "id": "50312097",
   "metadata": {},
   "outputs": [],
   "source": [
    "NUM_LABELS = len(labels)\n",
    "NUM_IMAGES = len(images)\n",
    "NUM_UNIQUE_LABELS = len(list(set(labels)))\n",
    "unique_labels = list(set(labels))"
   ]
  },
  {
   "cell_type": "code",
   "execution_count": 24,
   "id": "93023231",
   "metadata": {},
   "outputs": [
    {
     "name": "stdout",
     "output_type": "stream",
     "text": [
      "Number of Images: 372451\n",
      "Number of Labels: 372451\n",
      "Number of Unique Labels: 26\n"
     ]
    }
   ],
   "source": [
    "print('Number of Images:', NUM_IMAGES)\n",
    "print('Number of Labels:', NUM_LABELS)\n",
    "print('Number of Unique Labels:', NUM_UNIQUE_LABELS)"
   ]
  },
  {
   "cell_type": "code",
   "execution_count": 26,
   "id": "46d0097b",
   "metadata": {},
   "outputs": [],
   "source": [
    "# shuffle list\n",
    "import random\n",
    "zipped = list(zip(images, labels))\n",
    "shuffled = random.sample(zipped, len(zipped))"
   ]
  },
  {
   "cell_type": "code",
   "execution_count": 28,
   "id": "db0dc879",
   "metadata": {},
   "outputs": [],
   "source": [
    "# unpack images and labels\n",
    "shuffled_images, shuffled_labels = zip(*shuffled)"
   ]
  },
  {
   "cell_type": "code",
   "execution_count": 29,
   "id": "997f5d8c",
   "metadata": {},
   "outputs": [],
   "source": [
    "# set split value\n",
    "split_frac = 0.9\n",
    "split_num = int(split_frac*len(shuffled_images))"
   ]
  },
  {
   "cell_type": "code",
   "execution_count": 30,
   "id": "c2a55c7c",
   "metadata": {},
   "outputs": [],
   "source": [
    "# split into train and test\n",
    "train_images = shuffled_images[: split_num]\n",
    "train_labels = shuffled_labels[: split_num]\n",
    "test_images = shuffled_images[split_num : ]\n",
    "test_labels = shuffled_labels[split_num : ]"
   ]
  },
  {
   "cell_type": "code",
   "execution_count": 31,
   "id": "d2bf7cc4",
   "metadata": {},
   "outputs": [
    {
     "name": "stdout",
     "output_type": "stream",
     "text": [
      "Number of Train Images: 335205\n",
      "Number of Train Labels: 335205\n",
      "Number of Test Images: 37246\n",
      "Number of Test Labels: 37246\n"
     ]
    }
   ],
   "source": [
    "print('Number of Train Images:', len(train_images))\n",
    "print('Number of Train Labels:',len(train_labels))\n",
    "print('Number of Test Images:',len(test_images))\n",
    "print('Number of Test Labels:',len(test_labels))"
   ]
  },
  {
   "cell_type": "code",
   "execution_count": 32,
   "id": "27df907c",
   "metadata": {},
   "outputs": [],
   "source": [
    "# convert data to arrays\n",
    "train_images = np.array(train_images).astype(float)\n",
    "train_labels = np.array(train_labels).astype(float)\n",
    "test_images = np.array(test_images).astype(float)\n",
    "test_labels = np.array(test_labels).astype(float)"
   ]
  },
  {
   "cell_type": "code",
   "execution_count": 80,
   "id": "173e2ac1",
   "metadata": {},
   "outputs": [],
   "source": [
    "import string\n",
    "# list to hold alphabets\n",
    "chars = []\n",
    "# loop and append letters to chars\n",
    "for letter in string.ascii_uppercase:\n",
    "    chars.append(letter)"
   ]
  },
  {
   "cell_type": "code",
   "execution_count": 87,
   "id": "8e24c97f",
   "metadata": {},
   "outputs": [
    {
     "name": "stdout",
     "output_type": "stream",
     "text": [
      "There are 26 characters of the alphabet in chars.\n"
     ]
    }
   ],
   "source": [
    "# create a dictionary to map labels to alphabets\n",
    "print('There are {} characters of the alphabet in chars.'.format(len(chars)))\n",
    "idx_to_char = {x:chars[x] for x in range(0, 26)}"
   ]
  },
  {
   "cell_type": "code",
   "execution_count": 84,
   "id": "49c63ef3",
   "metadata": {},
   "outputs": [
    {
     "data": {
      "text/plain": [
       "{0: 'A',\n",
       " 1: 'B',\n",
       " 2: 'C',\n",
       " 3: 'D',\n",
       " 4: 'E',\n",
       " 5: 'F',\n",
       " 6: 'G',\n",
       " 7: 'H',\n",
       " 8: 'I',\n",
       " 9: 'J',\n",
       " 10: 'K',\n",
       " 11: 'L',\n",
       " 12: 'M',\n",
       " 13: 'N',\n",
       " 14: 'O',\n",
       " 15: 'P',\n",
       " 16: 'Q',\n",
       " 17: 'R',\n",
       " 18: 'S',\n",
       " 19: 'T',\n",
       " 20: 'U',\n",
       " 21: 'V',\n",
       " 22: 'W',\n",
       " 23: 'X',\n",
       " 24: 'Y',\n",
       " 25: 'Z'}"
      ]
     },
     "execution_count": 84,
     "metadata": {},
     "output_type": "execute_result"
    }
   ],
   "source": [
    "# inspect idx_to_chars\n",
    "idx_to_char"
   ]
  },
  {
   "cell_type": "code",
   "execution_count": 101,
   "id": "85ab5c60",
   "metadata": {},
   "outputs": [
    {
     "name": "stdout",
     "output_type": "stream",
     "text": [
      "Train label 18.0 : S\n"
     ]
    },
    {
     "data": {
      "image/png": "[encoded data removed]",
      "text/plain": [
       "<Figure size 432x288 with 1 Axes>"
      ]
     },
     "metadata": {
      "needs_background": "light"
     },
     "output_type": "display_data"
    }
   ],
   "source": [
    "# inspect the images\n",
    "# print a random item\n",
    "import numpy as np\n",
    "np.set_printoptions(linewidth=200)\n",
    "num_index = np.random.randint(0, int(len(train_images)))\n",
    "import matplotlib.pyplot as plt\n",
    "plt.imshow(train_images[num_index])\n",
    "train_label = train_labels[num_index]\n",
    "print('Train label {} : {}'.format(train_label, idx_to_char[int(train_label)]))\n",
    "# print(train_images[num_index])"
   ]
  },
  {
   "cell_type": "code",
   "execution_count": null,
   "id": "54742519",
   "metadata": {},
   "outputs": [],
   "source": []
  }
 ],
 "metadata": {
  "kernelspec": {
   "display_name": "Python [conda env:PythonAdv]",
   "language": "python",
   "name": "conda-env-PythonAdv-py"
  },
  "language_info": {
   "codemirror_mode": {
    "name": "ipython",
    "version": 3
   },
   "file_extension": ".py",
   "mimetype": "text/x-python",
   "name": "python",
   "nbconvert_exporter": "python",
   "pygments_lexer": "ipython3",
   "version": "3.8.12"
  }
 },
 "nbformat": 4,
 "nbformat_minor": 5
}
