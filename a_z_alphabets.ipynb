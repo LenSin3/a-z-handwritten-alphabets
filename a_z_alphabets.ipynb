{
 "cells": [
  {
   "cell_type": "code",
   "execution_count": 1,
   "id": "97f88815",
   "metadata": {},
   "outputs": [
    {
     "data": {
      "text/plain": [
       "[PhysicalDevice(name='/physical_device:GPU:0', device_type='GPU')]"
      ]
     },
     "execution_count": 1,
     "metadata": {},
     "output_type": "execute_result"
    }
   ],
   "source": [
    "import tensorflow as tf\n",
    "tf.config.list_physical_devices('GPU')"
   ]
  },
  {
   "cell_type": "code",
   "execution_count": 2,
   "id": "3f590346",
   "metadata": {},
   "outputs": [],
   "source": [
    "# import dependencies for file processing\n",
    "import os\n",
    "import csv\n",
    "import numpy as np"
   ]
  },
  {
   "cell_type": "code",
   "execution_count": 3,
   "id": "7443dbd1",
   "metadata": {},
   "outputs": [],
   "source": [
    "# filepath\n",
    "a_z_path = 'data/A_Z Handwritten Data.csv'"
   ]
  },
  {
   "cell_type": "code",
   "execution_count": 4,
   "id": "3fdcc422",
   "metadata": {},
   "outputs": [],
   "source": [
    "# readfile\n",
    "with open(a_z_path) as training_file:\n",
    "        reader = csv.reader(training_file, delimiter = ',')\n",
    "        header = []\n",
    "        labels = []\n",
    "        images = []\n",
    "        for row in reader:\n",
    "            labels.append(row[0])\n",
    "            pixel = np.array(row[1:785])\n",
    "            # images are of 28 x 28 grayscale\n",
    "            pix_split = np.array_split(pixel, 28)\n",
    "            images.append(pix_split)   "
   ]
  },
  {
   "cell_type": "code",
   "execution_count": 5,
   "id": "e2835fa9",
   "metadata": {},
   "outputs": [],
   "source": [
    "NUM_LABELS = len(labels)\n",
    "NUM_IMAGES = len(images)\n",
    "NUM_UNIQUE_LABELS = len(list(set(labels)))\n",
    "unique_labels = list(set(labels))"
   ]
  },
  {
   "cell_type": "code",
   "execution_count": 6,
   "id": "ec2b5b29",
   "metadata": {},
   "outputs": [
    {
     "name": "stdout",
     "output_type": "stream",
     "text": [
      "Number of Images: 372451\n",
      "Number of Labels: 372451\n",
      "Number of Unique Labels: 26\n"
     ]
    }
   ],
   "source": [
    "print('Number of Images:', NUM_IMAGES)\n",
    "print('Number of Labels:', NUM_LABELS)\n",
    "print('Number of Unique Labels:', NUM_UNIQUE_LABELS)"
   ]
  },
  {
   "cell_type": "code",
   "execution_count": 7,
   "id": "3cbe4b87",
   "metadata": {},
   "outputs": [],
   "source": [
    "# shuffle list\n",
    "import random\n",
    "zipped = list(zip(images, labels))\n",
    "shuffled = random.sample(zipped, len(zipped))"
   ]
  },
  {
   "cell_type": "code",
   "execution_count": 8,
   "id": "329a6eb0",
   "metadata": {},
   "outputs": [],
   "source": [
    "# unpack images and labels\n",
    "shuffled_images, shuffled_labels = zip(*shuffled)"
   ]
  },
  {
   "cell_type": "code",
   "execution_count": 9,
   "id": "fa1cceaa",
   "metadata": {},
   "outputs": [],
   "source": [
    "# set split value\n",
    "split_frac = 0.9\n",
    "split_num = int(split_frac*len(shuffled_images))"
   ]
  },
  {
   "cell_type": "code",
   "execution_count": 10,
   "id": "aa89de2f",
   "metadata": {},
   "outputs": [],
   "source": [
    "# split into train and test\n",
    "train_images = shuffled_images[: split_num]\n",
    "train_labels = shuffled_labels[: split_num]\n",
    "test_images = shuffled_images[split_num : ]\n",
    "test_labels = shuffled_labels[split_num : ]"
   ]
  },
  {
   "cell_type": "code",
   "execution_count": 11,
   "id": "da2a334d",
   "metadata": {},
   "outputs": [
    {
     "name": "stdout",
     "output_type": "stream",
     "text": [
      "Number of Train Images: 335205\n",
      "Number of Train Labels: 335205\n",
      "Number of Test Images: 37246\n",
      "Number of Test Labels: 37246\n"
     ]
    }
   ],
   "source": [
    "print('Number of Train Images:', len(train_images))\n",
    "print('Number of Train Labels:',len(train_labels))\n",
    "print('Number of Test Images:',len(test_images))\n",
    "print('Number of Test Labels:',len(test_labels))"
   ]
  },
  {
   "cell_type": "code",
   "execution_count": 12,
   "id": "54e6f2f4",
   "metadata": {},
   "outputs": [],
   "source": [
    "# convert data to arrays\n",
    "train_images = np.array(train_images).astype(float)\n",
    "train_labels = np.array(train_labels).astype(float)\n",
    "test_images = np.array(test_images).astype(float)\n",
    "test_labels = np.array(test_labels).astype(float)"
   ]
  },
  {
   "cell_type": "code",
   "execution_count": 13,
   "id": "dd0a2f21",
   "metadata": {},
   "outputs": [],
   "source": [
    "import string\n",
    "# list to hold alphabets\n",
    "chars = []\n",
    "# loop and append letters to chars\n",
    "for letter in string.ascii_uppercase:\n",
    "    chars.append(letter)"
   ]
  },
  {
   "cell_type": "code",
   "execution_count": 14,
   "id": "9ad4f67d",
   "metadata": {},
   "outputs": [
    {
     "name": "stdout",
     "output_type": "stream",
     "text": [
      "There are 26 characters of the alphabet in chars.\n"
     ]
    }
   ],
   "source": [
    "# create a dictionary to map labels to alphabets\n",
    "print('There are {} characters of the alphabet in chars.'.format(len(chars)))\n",
    "idx_to_char = {x:chars[x] for x in range(0, 26)}"
   ]
  },
  {
   "cell_type": "code",
   "execution_count": 30,
   "id": "3b744f83",
   "metadata": {},
   "outputs": [
    {
     "data": {
      "text/plain": [
       "['A',\n",
       " 'B',\n",
       " 'C',\n",
       " 'D',\n",
       " 'E',\n",
       " 'F',\n",
       " 'G',\n",
       " 'H',\n",
       " 'I',\n",
       " 'J',\n",
       " 'K',\n",
       " 'L',\n",
       " 'M',\n",
       " 'N',\n",
       " 'O',\n",
       " 'P',\n",
       " 'Q',\n",
       " 'R',\n",
       " 'S',\n",
       " 'T',\n",
       " 'U',\n",
       " 'V',\n",
       " 'W',\n",
       " 'X',\n",
       " 'Y',\n",
       " 'Z']"
      ]
     },
     "execution_count": 30,
     "metadata": {},
     "output_type": "execute_result"
    }
   ],
   "source": [
    "chars"
   ]
  },
  {
   "cell_type": "code",
   "execution_count": 15,
   "id": "4a352099",
   "metadata": {},
   "outputs": [
    {
     "data": {
      "text/plain": [
       "{0: 'A',\n",
       " 1: 'B',\n",
       " 2: 'C',\n",
       " 3: 'D',\n",
       " 4: 'E',\n",
       " 5: 'F',\n",
       " 6: 'G',\n",
       " 7: 'H',\n",
       " 8: 'I',\n",
       " 9: 'J',\n",
       " 10: 'K',\n",
       " 11: 'L',\n",
       " 12: 'M',\n",
       " 13: 'N',\n",
       " 14: 'O',\n",
       " 15: 'P',\n",
       " 16: 'Q',\n",
       " 17: 'R',\n",
       " 18: 'S',\n",
       " 19: 'T',\n",
       " 20: 'U',\n",
       " 21: 'V',\n",
       " 22: 'W',\n",
       " 23: 'X',\n",
       " 24: 'Y',\n",
       " 25: 'Z'}"
      ]
     },
     "execution_count": 15,
     "metadata": {},
     "output_type": "execute_result"
    }
   ],
   "source": [
    "# inspect idx_to_chars\n",
    "idx_to_char"
   ]
  },
  {
   "cell_type": "code",
   "execution_count": 16,
   "id": "cc6477eb",
   "metadata": {},
   "outputs": [
    {
     "name": "stdout",
     "output_type": "stream",
     "text": [
      "Train label 2.0 : C\n"
     ]
    },
    {
     "data": {
      "image/png": "[encoded data removed]",
      "text/plain": [
       "<Figure size 432x288 with 1 Axes>"
      ]
     },
     "metadata": {
      "needs_background": "light"
     },
     "output_type": "display_data"
    }
   ],
   "source": [
    "# inspect the images\n",
    "# print a random item\n",
    "import numpy as np\n",
    "np.set_printoptions(linewidth=200)\n",
    "num_index = np.random.randint(0, int(len(train_images)))\n",
    "import matplotlib.pyplot as plt\n",
    "plt.imshow(train_images[num_index])\n",
    "train_label = train_labels[num_index]\n",
    "print('Train label {} : {}'.format(train_label, idx_to_char[int(train_label)]))\n",
    "# print(train_images[num_index])"
   ]
  },
  {
   "cell_type": "code",
   "execution_count": 17,
   "id": "3aa1f424",
   "metadata": {},
   "outputs": [],
   "source": [
    "# expand dimensions\n",
    "train_images = np.expand_dims(train_images, axis=-1)\n",
    "test_images = np.expand_dims(test_images, axis = -1)"
   ]
  },
  {
   "cell_type": "code",
   "execution_count": 18,
   "id": "bd14bf47",
   "metadata": {},
   "outputs": [
    {
     "name": "stdout",
     "output_type": "stream",
     "text": [
      "Shape of train_images: (335205, 28, 28, 1)\n",
      "Shape of test_images: (37246, 28, 28, 1)\n"
     ]
    }
   ],
   "source": [
    "print('Shape of train_images:', train_images.shape)\n",
    "print('Shape of test_images:', test_images.shape)"
   ]
  },
  {
   "cell_type": "code",
   "execution_count": 19,
   "id": "52a75640",
   "metadata": {},
   "outputs": [],
   "source": [
    "import tensorflow as tf\n",
    "from tensorflow.keras.preprocessing.image import ImageDataGenerator\n",
    "# BATCH_SIZE AS HYPERPARAMETER\n",
    "BATCH_SIZE = 128\n",
    "# creat ImageDataGenerator and do Image Augmentation\n",
    "train_datagen = ImageDataGenerator(\n",
    "    rescale = 1/255.,\n",
    "    rotation_range = 40,\n",
    "    width_shift_range = 0.2,\n",
    "    height_shift_range = 0.2,\n",
    "    shear_range = 0.2,\n",
    "    zoom_range = 0.2,\n",
    "    horizontal_flip = True,\n",
    "    fill_mode = 'nearest',\n",
    "    validation_split = 0.2\n",
    ")\n",
    "train_generator = train_datagen.flow(\n",
    "    train_images,\n",
    "    train_labels,\n",
    "    batch_size = BATCH_SIZE\n",
    ")\n",
    "\n",
    "validation_datagen = ImageDataGenerator(\n",
    "    rescale = 1/255.\n",
    ")\n",
    "validation_generator = validation_datagen.flow(\n",
    "    test_images,\n",
    "    test_labels,\n",
    "    batch_size = BATCH_SIZE\n",
    ")"
   ]
  },
  {
   "cell_type": "code",
   "execution_count": 20,
   "id": "d2ded378",
   "metadata": {},
   "outputs": [
    {
     "name": "stdout",
     "output_type": "stream",
     "text": [
      "Model: \"sequential\"\n",
      "_________________________________________________________________\n",
      " Layer (type)                Output Shape              Param #   \n",
      "=================================================================\n",
      " conv2d (Conv2D)             (None, 26, 26, 16)        160       \n",
      "                                                                 \n",
      " max_pooling2d (MaxPooling2D  (None, 13, 13, 16)       0         \n",
      " )                                                               \n",
      "                                                                 \n",
      " conv2d_1 (Conv2D)           (None, 11, 11, 32)        4640      \n",
      "                                                                 \n",
      " max_pooling2d_1 (MaxPooling  (None, 5, 5, 32)         0         \n",
      " 2D)                                                             \n",
      "                                                                 \n",
      " conv2d_2 (Conv2D)           (None, 3, 3, 64)          18496     \n",
      "                                                                 \n",
      " max_pooling2d_2 (MaxPooling  (None, 1, 1, 64)         0         \n",
      " 2D)                                                             \n",
      "                                                                 \n",
      " flatten (Flatten)           (None, 64)                0         \n",
      "                                                                 \n",
      " dense (Dense)               (None, 512)               33280     \n",
      "                                                                 \n",
      " dense_1 (Dense)             (None, 26)                13338     \n",
      "                                                                 \n",
      "=================================================================\n",
      "Total params: 69,914\n",
      "Trainable params: 69,914\n",
      "Non-trainable params: 0\n",
      "_________________________________________________________________\n"
     ]
    }
   ],
   "source": [
    "# define a model\n",
    "# use Conv2D and maxPooling2D\n",
    "model = tf.keras.models.Sequential([\n",
    "    # 1st convolution\n",
    "    tf.keras.layers.Conv2D(16,(3, 3), activation = 'relu', input_shape = (28, 28, 1)),\n",
    "    tf.keras.layers.MaxPooling2D(2, 2),\n",
    "    # 2nd convolution\n",
    "    tf.keras.layers.Conv2D(32,(3, 3), activation = 'relu'),\n",
    "    tf.keras.layers.MaxPooling2D(2, 2),\n",
    "    # 3rdd convolution\n",
    "    tf.keras.layers.Conv2D(64,(3, 3), activation = 'relu'),\n",
    "    tf.keras.layers.MaxPooling2D(2, 2),\n",
    "    # flatten the results and feed into dnn\n",
    "    tf.keras.layers.Flatten(),\n",
    "#     tf.keras.layers.Dropout(0.5),\n",
    "    # 512 neuron\n",
    "    tf.keras.layers.Dense(512, activation = 'relu'),\n",
    "    tf.keras.layers.Dense(26, activation = 'softmax')\n",
    "])\n",
    "\n",
    "model.summary()"
   ]
  },
  {
   "cell_type": "code",
   "execution_count": 21,
   "id": "db73b6ad",
   "metadata": {},
   "outputs": [],
   "source": [
    "# compile the model\n",
    "model.compile(loss = 'sparse_categorical_crossentropy', optimizer = 'adam', metrics = ['accuracy'])"
   ]
  },
  {
   "cell_type": "code",
   "execution_count": 22,
   "id": "5c3079fc",
   "metadata": {},
   "outputs": [
    {
     "name": "stdout",
     "output_type": "stream",
     "text": [
      "Epoch 1/10\n",
      "10476/10476 [==============================] - 34s 3ms/step - loss: 0.2126 - accuracy: 0.9399 - val_loss: 0.1404 - val_accuracy: 0.9603\n",
      "Epoch 2/10\n",
      "10476/10476 [==============================] - 29s 3ms/step - loss: 0.1113 - accuracy: 0.9681 - val_loss: 0.1225 - val_accuracy: 0.9669\n",
      "Epoch 3/10\n",
      "10476/10476 [==============================] - 28s 3ms/step - loss: 0.0971 - accuracy: 0.9723 - val_loss: 0.1036 - val_accuracy: 0.9705\n",
      "Epoch 4/10\n",
      "10476/10476 [==============================] - 29s 3ms/step - loss: 0.0905 - accuracy: 0.9741 - val_loss: 0.1024 - val_accuracy: 0.9729\n",
      "Epoch 5/10\n",
      "10476/10476 [==============================] - 28s 3ms/step - loss: 0.0879 - accuracy: 0.9749 - val_loss: 0.1179 - val_accuracy: 0.9675\n",
      "Epoch 6/10\n",
      "10476/10476 [==============================] - 34s 3ms/step - loss: 0.0856 - accuracy: 0.9759 - val_loss: 0.0965 - val_accuracy: 0.9755\n",
      "Epoch 7/10\n",
      "10476/10476 [==============================] - 30s 3ms/step - loss: 0.0834 - accuracy: 0.9763 - val_loss: 0.0949 - val_accuracy: 0.9736\n",
      "Epoch 8/10\n",
      "10476/10476 [==============================] - 30s 3ms/step - loss: 0.0821 - accuracy: 0.9772 - val_loss: 0.1046 - val_accuracy: 0.9718\n",
      "Epoch 9/10\n",
      "10476/10476 [==============================] - 28s 3ms/step - loss: 0.0823 - accuracy: 0.9768 - val_loss: 0.1110 - val_accuracy: 0.9714\n",
      "Epoch 10/10\n",
      "10476/10476 [==============================] - 30s 3ms/step - loss: 0.0822 - accuracy: 0.9769 - val_loss: 0.1060 - val_accuracy: 0.9741\n"
     ]
    }
   ],
   "source": [
    "# train the model for 10 epochs with data augmentation\n",
    "# history = model.fit(train_generator, validation_data =validation_generator, epochs = 50, verbose = 1)\n",
    "# train model without data augmentation\n",
    "history = model.fit(train_images, train_labels, validation_data =(test_images, test_labels), epochs = 10, verbose = 1)"
   ]
  },
  {
   "cell_type": "code",
   "execution_count": 23,
   "id": "757bd814",
   "metadata": {},
   "outputs": [
    {
     "data": {
      "text/plain": [
       "Text(0.5, 1.0, 'Training and validation loss')"
      ]
     },
     "execution_count": 23,
     "metadata": {},
     "output_type": "execute_result"
    },
    {
     "data": {
      "image/png": "[encoded data removed]",
      "text/plain": [
       "<Figure size 432x288 with 1 Axes>"
      ]
     },
     "metadata": {
      "needs_background": "light"
     },
     "output_type": "display_data"
    },
    {
     "data": {
      "image/png": "[encoded data removed]",
      "text/plain": [
       "<Figure size 432x288 with 1 Axes>"
      ]
     },
     "metadata": {
      "needs_background": "light"
     },
     "output_type": "display_data"
    }
   ],
   "source": [
    "#-----------------------------------------------------------\n",
    "# Retrieve a list of list results on training and test data\n",
    "# sets for each training epoch\n",
    "#-----------------------------------------------------------\n",
    "acc      = history.history['accuracy']\n",
    "val_acc  = history.history['val_accuracy']\n",
    "loss     = history.history['loss']\n",
    "val_loss = history.history['val_loss']\n",
    "\n",
    "epochs   = range(len(acc)) # Get number of epochs\n",
    "\n",
    "#------------------------------------------------\n",
    "# Plot training and validation accuracy per epoch\n",
    "#------------------------------------------------\n",
    "plt.plot  (epochs, acc)\n",
    "plt.plot  (epochs, val_acc)\n",
    "plt.title ('Training and validation accuracy')\n",
    "plt.figure()\n",
    "\n",
    "#------------------------------------------------\n",
    "# Plot training and validation loss per epoch\n",
    "#------------------------------------------------\n",
    "plt.plot  (epochs, loss)\n",
    "plt.plot  (epochs, val_loss)\n",
    "plt.title ('Training and validation loss')"
   ]
  },
  {
   "cell_type": "code",
   "execution_count": 28,
   "id": "ed5524d3",
   "metadata": {},
   "outputs": [],
   "source": [
    "# save model by timestamp\n",
    "import time\n",
    "saved_model_path = 'models/a_z_saved_model.h5'\n",
    "model.save(saved_model_path)"
   ]
  },
  {
   "cell_type": "code",
   "execution_count": 29,
   "id": "66dace41",
   "metadata": {},
   "outputs": [],
   "source": [
    "# convert to tensorflow.js\n",
    "!tensorflowjs_converter --input_format=keras {saved_model_path} ./"
   ]
  },
  {
   "cell_type": "code",
   "execution_count": null,
   "id": "4eb58133",
   "metadata": {},
   "outputs": [],
   "source": []
  }
 ],
 "metadata": {
  "kernelspec": {
   "display_name": "Python [conda env:Python38]",
   "language": "python",
   "name": "conda-env-Python38-py"
  },
  "language_info": {
   "codemirror_mode": {
    "name": "ipython",
    "version": 3
   },
   "file_extension": ".py",
   "mimetype": "text/x-python",
   "name": "python",
   "nbconvert_exporter": "python",
   "pygments_lexer": "ipython3",
   "version": "3.8.12"
  }
 },
 "nbformat": 4,
 "nbformat_minor": 5
}
